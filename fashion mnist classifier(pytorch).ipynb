{
  "nbformat": 4,
  "nbformat_minor": 0,
  "metadata": {
    "kernelspec": {
      "display_name": "Python 3",
      "language": "python",
      "name": "python3"
    },
    "language_info": {
      "codemirror_mode": {
        "name": "ipython",
        "version": 3
      },
      "file_extension": ".py",
      "mimetype": "text/x-python",
      "name": "python",
      "nbconvert_exporter": "python",
      "pygments_lexer": "ipython3",
      "version": "3.6.8"
    },
    "toc": {
      "base_numbering": 1,
      "nav_menu": {},
      "number_sections": false,
      "sideBar": true,
      "skip_h1_title": false,
      "title_cell": "목차",
      "title_sidebar": "Contents",
      "toc_cell": true,
      "toc_position": {
        "height": "calc(100% - 180px)",
        "left": "10px",
        "top": "150px",
        "width": "349.091px"
      },
      "toc_section_display": true,
      "toc_window_display": true
    },
    "colab": {
      "name": "pytorch-cnn-project.ipynb",
      "provenance": []
    },
    "accelerator": "GPU"
  },
  "cells": [
    {
      "cell_type": "code",
      "metadata": {
        "id": "cIWJH4HOGIV7",
        "colab_type": "code",
        "colab": {
          "base_uri": "https://localhost:8080/",
          "height": 35
        },
        "outputId": "3da47a4d-ab21-4420-c90c-6fe5123bc1c2"
      },
      "source": [
        "from google.colab import auth\n",
        "auth.authenticate_user()\n",
        "\n",
        "from google.colab import drive\n",
        "drive.mount('/content/gdrive', force_remount=False)"
      ],
      "execution_count": null,
      "outputs": [
        {
          "output_type": "stream",
          "text": [
            "Drive already mounted at /content/gdrive; to attempt to forcibly remount, call drive.mount(\"/content/gdrive\", force_remount=True).\n"
          ],
          "name": "stdout"
        }
      ]
    },
    {
      "cell_type": "code",
      "metadata": {
        "id": "9b6cJPRKGIV_",
        "colab_type": "code",
        "colab": {
          "base_uri": "https://localhost:8080/",
          "height": 35
        },
        "outputId": "caff6906-7078-4613-eb5a-39fab493c57e"
      },
      "source": [
        "import os\n",
        "from pathlib import Path\n",
        "\n",
        "# folder 변수에 구글드라이브에 프로젝트를 저장한 디렉토리를 입력하세요!\n",
        "folder = \"\"\n",
        "project_dir = \"02_cnn_pt\"\n",
        "\n",
        "base_path = Path(\"/content/gdrive/My Drive/\")\n",
        "project_path = base_path / folder / project_dir\n",
        "os.chdir(project_path)\n",
        "for x in list(project_path.glob(\"*\")):\n",
        "    if x.is_dir():\n",
        "        dir_name = str(x.relative_to(project_path))\n",
        "        os.rename(dir_name, dir_name.split(\" \", 1)[0])\n",
        "print(f\"현재 디렉토리 위치: {os.getcwd()}\")"
      ],
      "execution_count": null,
      "outputs": [
        {
          "output_type": "stream",
          "text": [
            "현재 디렉토리 위치: /content/gdrive/My Drive/02_cnn_pt\n"
          ],
          "name": "stdout"
        }
      ]
    },
    {
      "cell_type": "code",
      "metadata": {
        "id": "d0oWPctHGIWB",
        "colab_type": "code",
        "colab": {
          "base_uri": "https://localhost:8080/",
          "height": 35
        },
        "outputId": "0bd9c119-0b0c-4d3f-f980-4ed927159aa2"
      },
      "source": [
        "## 첫번째 코드블록\n",
        "import torch \n",
        "print('pytorch version: {}'.format(torch.__version__))"
      ],
      "execution_count": null,
      "outputs": [
        {
          "output_type": "stream",
          "text": [
            "pytorch version: 1.6.0+cu101\n"
          ],
          "name": "stdout"
        }
      ]
    },
    {
      "cell_type": "markdown",
      "metadata": {
        "id": "73vUhPTZGIWG",
        "colab_type": "text"
      },
      "source": [
        "## 1. Package load"
      ]
    },
    {
      "cell_type": "code",
      "metadata": {
        "id": "abM91d-kGIWH",
        "colab_type": "code",
        "colab": {
          "base_uri": "https://localhost:8080/",
          "height": 52
        },
        "outputId": "24ab1de2-1663-41d6-c7eb-d4e6ab8740a0"
      },
      "source": [
        "import torch\n",
        "import torchvision\n",
        "import torch.nn as nn\n",
        "import torch.nn.functional as F\n",
        "import torchvision.transforms as transforms\n",
        "from torch.utils.data import Dataset, DataLoader\n",
        "from PIL import Image\n",
        "import glob\n",
        "import os\n",
        "import matplotlib.pyplot as plt\n",
        "import numpy as np\n",
        "import check_util.checker as checker \n",
        "%matplotlib inline\n",
        "\n",
        "print('pytorch version: {}'.format(torch.__version__))\n",
        "print('GPU 사용 가능 여부: {}'.format(torch.cuda.is_available()))\n",
        "device = \"cuda\" if torch.cuda.is_available() else \"cpu\"   # GPU 사용 가능 여부에 따라 device 정보 저장"
      ],
      "execution_count": null,
      "outputs": [
        {
          "output_type": "stream",
          "text": [
            "pytorch version: 1.6.0+cu101\n",
            "GPU 사용 가능 여부: True\n"
          ],
          "name": "stdout"
        }
      ]
    },
    {
      "cell_type": "markdown",
      "metadata": {
        "id": "xvbaY4JeGIWL",
        "colab_type": "text"
      },
      "source": [
        "## 2. 데이터셋 다운로드 및 훈련, 검증, 테스트 데이터셋 구성"
      ]
    },
    {
      "cell_type": "code",
      "metadata": {
        "id": "f_RHwDlUGIWL",
        "colab_type": "code",
        "colab": {
          "base_uri": "https://localhost:8080/",
          "height": 52
        },
        "outputId": "c338752c-a5ca-4df2-f426-868c471e2e69"
      },
      "source": [
        "import zipfile\n",
        "from pathlib import Path\n",
        "\n",
        "current_path = Path().absolute()\n",
        "data_path = current_path / \"data\"\n",
        "print(\"현재 디렉토리 위치: {}\".format(current_path))\n",
        "if (data_path / \"my_cat_dog\").exists():\n",
        "    print(\"이미 'data/my_cat_dog' 폴더에 압축이 풀려있습니다. 확인해보세요!\")\n",
        "else:\n",
        "    with zipfile.ZipFile(str(data_path / \"my_cat_dog.zip\"), \"r\") as zip_ref:\n",
        "        zip_ref.extractall(str(data_path / \"my_cat_dog\"))\n",
        "    print(\"Done!\")"
      ],
      "execution_count": null,
      "outputs": [
        {
          "output_type": "stream",
          "text": [
            "현재 디렉토리 위치: /content/gdrive/My Drive/02_cnn_pt\n",
            "이미 'data/my_cat_dog' 폴더에 압축이 풀려있습니다. 확인해보세요!\n"
          ],
          "name": "stdout"
        }
      ]
    },
    {
      "cell_type": "markdown",
      "metadata": {
        "id": "2oZMXnPJGIWT",
        "colab_type": "text"
      },
      "source": [
        "## 3. 하이퍼파라미터 세팅"
      ]
    },
    {
      "cell_type": "code",
      "metadata": {
        "id": "E5Q9lcQ_GIWU",
        "colab_type": "code",
        "colab": {}
      },
      "source": [
        "batch_size = 100\n",
        "num_epochs = 10\n",
        "learning_rate = 0.0001"
      ],
      "execution_count": null,
      "outputs": []
    },
    {
      "cell_type": "markdown",
      "metadata": {
        "id": "5NotknOlGIWW",
        "colab_type": "text"
      },
      "source": [
        "## 4. Dataset 및 DataLoader 할당\n"
      ]
    },
    {
      "cell_type": "code",
      "metadata": {
        "id": "6wOizUmQGIWX",
        "colab_type": "code",
        "colab": {}
      },
      "source": [
        "class CatDogDataset(Dataset):\n",
        "    def __init__(self, data_dir, mode, transform=None):\n",
        "        self.all_data = sorted(glob.glob(os.path.join(data_dir, mode, '*', '*')))\n",
        "        self.transform = transform\n",
        "    \n",
        "    def __getitem__(self, index):\n",
        "        # 반환할 이미지 경로 정의 및 이미지 로드\n",
        "        data_path = self.all_data[index]  \n",
        "        img = Image.open(data_path)        \n",
        "        if self.transform != None:\n",
        "          img = self.transform(img)              \n",
        "        \n",
        "        # Step 2: 이미지에 대한 label 정의\n",
        "        label = None\n",
        "        if os.path.basename(data_path).startswith(\"cat\"):\n",
        "          label = 0\n",
        "        else:\n",
        "          label = 1\n",
        "\n",
        "        return img, label\n",
        "    \n",
        "    def __len__(self):\n",
        "        length = len(self.all_data)\n",
        "        return length\n",
        "        "
      ],
      "execution_count": null,
      "outputs": []
    },
    {
      "cell_type": "markdown",
      "metadata": {
        "id": "L8mpTouMGIWe",
        "colab_type": "text"
      },
      "source": [
        "### 데이터 증식(Data Augmentation) \n"
      ]
    },
    {
      "cell_type": "code",
      "metadata": {
        "id": "Xgc53_bOGIWa",
        "colab_type": "code",
        "colab": {}
      },
      "source": [
        "data_transforms = {\n",
        "    'train': transforms.Compose([\n",
        "        transforms.RandomRotation(5),\n",
        "        transforms.RandomHorizontalFlip(),\n",
        "        transforms.RandomResizedCrop(120, scale=(0.96, 1.0), ratio=(0.95, 1.05)),\n",
        "        transforms.ToTensor(),\n",
        "        transforms.Normalize([0.485, 0.456, 0.406], [0.229, 0.224, 0.225])\n",
        "    ]),\n",
        "    'val': transforms.Compose([\n",
        "        transforms.Resize([120, 120]),\n",
        "        transforms.ToTensor(),\n",
        "        transforms.Normalize([0.485, 0.456, 0.406], [0.229, 0.224, 0.225])\n",
        "    ]),\n",
        "}\n",
        "\n",
        "train_data = CatDogDataset(data_dir='./data/my_cat_dog', mode='train', transform=data_transforms['train'])\n",
        "val_data = CatDogDataset(data_dir='./data/my_cat_dog', mode='val', transform=data_transforms['val'])\n",
        "test_data = CatDogDataset(data_dir='./data/my_cat_dog', mode='test', transform=data_transforms['val'])\n",
        "\n",
        "train_loader = DataLoader(train_data, batch_size=batch_size, shuffle=True, drop_last=True)\n",
        "val_loader = DataLoader(val_data, batch_size=batch_size, shuffle=False, drop_last=True)\n",
        "test_loader = DataLoader(test_data, batch_size=batch_size, shuffle=False, drop_last=True)"
      ],
      "execution_count": null,
      "outputs": []
    },
    {
      "cell_type": "markdown",
      "metadata": {
        "id": "MECAVoQfGIWe",
        "colab_type": "text"
      },
      "source": [
        "## 5. 네트워크 설계"
      ]
    },
    {
      "cell_type": "code",
      "metadata": {
        "id": "isjOLfXZGIWf",
        "colab_type": "code",
        "colab": {}
      },
      "source": [
        "class SimpleCNN(nn.Module):\n",
        "    def __init__(self):\n",
        "        super().__init__()\n",
        "        # self.conv 구현\n",
        "        self.conv = nn.Sequential(\n",
        "            nn.Conv2d(3, 32, 3), \n",
        "            nn.BatchNorm2d(32),   \n",
        "            nn.ReLU(),    \n",
        "            nn.MaxPool2d(2),\n",
        "            \n",
        "            nn.Conv2d(32, 64, 3), \n",
        "            nn.BatchNorm2d(64),   \n",
        "            nn.ReLU(),    \n",
        "            nn.MaxPool2d(2),\n",
        "            \n",
        "            nn.Conv2d(64, 128, 3), \n",
        "            nn.BatchNorm2d(128),   \n",
        "            nn.ReLU(),    \n",
        "            nn.MaxPool2d(2),\n",
        "            \n",
        "            nn.Conv2d(128, 128, 3), \n",
        "            nn.BatchNorm2d(128),   \n",
        "            nn.ReLU(),    \n",
        "        )\n",
        "        \n",
        "        # self.fc 구현\n",
        "        self.fc1 = nn.Linear(128*5*5, 512)\n",
        "        self.fc2 = nn.Linear(512, 2)\n",
        "    \n",
        "    def forward(self, x):\n",
        "        x = self.conv(x)\n",
        "        x = x.view(x.shape[0], -1)\n",
        "        x = F.relu(self.fc1(x))\n",
        "        x = self.fc2(x)\n",
        "        return x"
      ],
      "execution_count": null,
      "outputs": []
    },
    {
      "cell_type": "markdown",
      "metadata": {
        "id": "jZruwytrGIWj",
        "colab_type": "text"
      },
      "source": [
        "## 6. train, validation, test 함수 정의"
      ]
    },
    {
      "cell_type": "markdown",
      "metadata": {
        "id": "x53klU-mGIWj",
        "colab_type": "text"
      },
      "source": [
        "### 훈련 함수\n"
      ]
    },
    {
      "cell_type": "code",
      "metadata": {
        "id": "WNuMfd1jGIWk",
        "colab_type": "code",
        "colab": {}
      },
      "source": [
        "def train(num_epochs, model, data_loader, criterion, optimizer, saved_dir, val_every, device):\n",
        "    print('Start training..')\n",
        "    best_loss = 9999999\n",
        "    for epoch in range(num_epochs):\n",
        "        for i, (imgs, labels) in enumerate(data_loader):\n",
        "            imgs, labels = imgs.to(device), labels.to(device)\n",
        "            ## 코드 시작 ##\n",
        "            outputs = model(imgs)  \n",
        "            loss = criterion(outputs, labels)    \n",
        "\n",
        "            optimizer.zero_grad()        \n",
        "            loss.backward()         \n",
        "            optimizer.step()          \n",
        "\n",
        "            _, argmax = torch.max(outputs, 1)\n",
        "            accuracy = (labels == argmax).float().mean()\n",
        "\n",
        "            if (i+1) % 3 == 0:\n",
        "                print('Epoch [{}/{}], Step [{}/{}], Loss: {:.4f}, Accuracy: {:.2f}%'.format(\n",
        "                    epoch+1, num_epochs, i+1, len(data_loader), loss.item(), accuracy.item() * 100))\n",
        "\n",
        "        if (epoch + 1) % val_every == 0:\n",
        "            avrg_loss = validation(epoch + 1, model, val_loader, criterion, device)\n",
        "            if avrg_loss < best_loss:\n",
        "                print('Best performance at epoch: {}'.format(epoch + 1))\n",
        "                print('Save model in', saved_dir)\n",
        "                best_loss = avrg_loss\n",
        "                save_model(model, saved_dir)"
      ],
      "execution_count": null,
      "outputs": []
    },
    {
      "cell_type": "markdown",
      "metadata": {
        "id": "s4ddfcNZGIWn",
        "colab_type": "text"
      },
      "source": [
        "### 검증 함수\n"
      ]
    },
    {
      "cell_type": "code",
      "metadata": {
        "id": "Sd13ckyvGIWo",
        "colab_type": "code",
        "colab": {}
      },
      "source": [
        "def validation(epoch, model, data_loader, criterion, device):\n",
        "    print('Start validation #{}'.format(epoch) )\n",
        "    model.eval()\n",
        "    with torch.no_grad():\n",
        "        total = 0\n",
        "        correct = 0\n",
        "        total_loss = 0\n",
        "        cnt = 0\n",
        "        for i, (imgs, labels) in enumerate(data_loader):\n",
        "            imgs, labels = imgs.to(device), labels.to(device)\n",
        "            outputs = model(imgs)\n",
        "            loss = criterion(outputs, labels)\n",
        "            total += imgs.size(0)\n",
        "            _, argmax = torch.max(outputs, 1)\n",
        "            correct += (labels == argmax).sum().item()\n",
        "            total_loss += loss\n",
        "            cnt += 1\n",
        "        avrg_loss = total_loss / cnt\n",
        "        print('Validation #{}  Accuracy: {:.2f}%  Average Loss: {:.4f}'.format(epoch, correct / total * 100, avrg_loss))\n",
        "    model.train()\n",
        "    return avrg_loss"
      ],
      "execution_count": 1,
      "outputs": []
    },
    {
      "cell_type": "markdown",
      "metadata": {
        "id": "pLKS1DpmGIWp",
        "colab_type": "text"
      },
      "source": [
        "### 테스트 함수"
      ]
    },
    {
      "cell_type": "code",
      "metadata": {
        "id": "Berp-7laGIWq",
        "colab_type": "code",
        "colab": {}
      },
      "source": [
        "def test(model, data_loader, device):\n",
        "    print('Start test..')\n",
        "    model.eval()\n",
        "    with torch.no_grad():\n",
        "        correct = 0\n",
        "        total = 0\n",
        "        for i, (imgs, labels) in enumerate(data_loader):\n",
        "            imgs, labels = imgs.to(device), labels.to(device)\n",
        "            outputs = model(imgs)\n",
        "            _, argmax = torch.max(outputs, 1)    # max()를 통해 최종 출력이 가장 높은 class 선택\n",
        "            total += imgs.size(0)\n",
        "            correct += (labels == argmax).sum().item()\n",
        "\n",
        "        print('Test accuracy for {} images: {:.2f}%'.format(total, correct / total * 100))\n",
        "    model.train()"
      ],
      "execution_count": null,
      "outputs": []
    },
    {
      "cell_type": "markdown",
      "metadata": {
        "id": "ZOnPRXOgGIWr",
        "colab_type": "text"
      },
      "source": [
        "## 7. 모델 저장 "
      ]
    },
    {
      "cell_type": "code",
      "metadata": {
        "id": "1H3jMPoDGIWs",
        "colab_type": "code",
        "colab": {}
      },
      "source": [
        "def save_model(model, saved_dir, file_name='best_model.pt'):\n",
        "    os.makedirs(saved_dir, exist_ok=True)\n",
        "    check_point = {\n",
        "        'net': model.state_dict()\n",
        "    }\n",
        "    output_path = os.path.join(saved_dir, file_name)\n",
        "    torch.save(check_point, output_path)"
      ],
      "execution_count": null,
      "outputs": []
    },
    {
      "cell_type": "markdown",
      "metadata": {
        "id": "IVNZLmH2GIWu",
        "colab_type": "text"
      },
      "source": [
        "## 8. 모델 생성 및 Loss function, Optimizer 정의\n"
      ]
    },
    {
      "cell_type": "code",
      "metadata": {
        "scrolled": true,
        "id": "iWrmXHDZGIWu",
        "colab_type": "code",
        "colab": {}
      },
      "source": [
        "torch.manual_seed(7777) # 일관된 weight initialization을 위한 random seed 설정\n",
        "## 코드 시작 ##\n",
        "model = SimpleCNN()          \n",
        "model = model.to(device)\n",
        "\n",
        "criterion = nn.CrossEntropyLoss()     \n",
        "optimizer = torch.optim.Adam(params=model.parameters(), lr=learning_rate)    \n",
        "## 코드 종료 ##\n",
        "\n",
        "model = model.to(device)\n",
        "val_every = 1\n",
        "saved_dir = './saved/SimpleCNN'"
      ],
      "execution_count": null,
      "outputs": []
    },
    {
      "cell_type": "markdown",
      "metadata": {
        "id": "rrko57WcGIWz",
        "colab_type": "text"
      },
      "source": [
        "## 9. Training"
      ]
    },
    {
      "cell_type": "code",
      "metadata": {
        "scrolled": true,
        "id": "EzdPz-KLGIW0",
        "colab_type": "code",
        "colab": {}
      },
      "source": [
        "train(num_epochs, model, train_loader, criterion, optimizer, saved_dir, val_every, device)"
      ],
      "execution_count": null,
      "outputs": []
    },
    {
      "cell_type": "markdown",
      "metadata": {
        "id": "Enb4vzLEGIW2",
        "colab_type": "text"
      },
      "source": [
        "## 10. 저장된 모델 불러오기 및 test"
      ]
    },
    {
      "cell_type": "code",
      "metadata": {
        "id": "POXBvAu7GIW2",
        "colab_type": "code",
        "colab": {
          "base_uri": "https://localhost:8080/",
          "height": 35
        },
        "outputId": "5eb32a75-0c79-4fec-b00e-e552edb68bd7"
      },
      "source": [
        "model_path = './saved/SimpleCNN/best_model.pt'\n",
        "# model_path = './saved/pretrained/SimpleCNN/best_model.pt' # 모델 학습을 끝까지 진행하지 않은 경우에 사용\n",
        "model = SimpleCNN().to(device)   # 아래의 모델 불러오기를 정확히 구현했는지 확인하기 위해 새로 모델을 선언하여 학습 이전 상태로 초기화\n",
        "\n",
        "## 코드 시작 ##\n",
        "checkpoint = torch.load(model_path, map_location=device)   \n",
        "state_dict = checkpoint['net']   \n",
        "model.load_state_dict(state_dict=state_dict)                \n",
        "## 코드 종료 ##"
      ],
      "execution_count": null,
      "outputs": [
        {
          "output_type": "execute_result",
          "data": {
            "text/plain": [
              "<All keys matched successfully>"
            ]
          },
          "metadata": {
            "tags": []
          },
          "execution_count": 109
        }
      ]
    },
    {
      "cell_type": "code",
      "metadata": {
        "id": "3PyHNakTGIW4",
        "colab_type": "code",
        "colab": {
          "base_uri": "https://localhost:8080/",
          "height": 52
        },
        "outputId": "334a101f-414b-4bfe-e0e0-6030fecb6f2f"
      },
      "source": [
        "test(model, test_loader, device)"
      ],
      "execution_count": null,
      "outputs": [
        {
          "output_type": "stream",
          "text": [
            "Start test..\n",
            "Test accuracy for 2000 images: 76.50%\n"
          ],
          "name": "stdout"
        }
      ]
    },
    {
      "cell_type": "markdown",
      "metadata": {
        "id": "h5pWKv5bGIW8",
        "colab_type": "text"
      },
      "source": [
        "## 11. Transfer Learning(ResNet)\n"
      ]
    },
    {
      "cell_type": "code",
      "metadata": {
        "id": "AD4NWy8RGIW9",
        "colab_type": "code",
        "colab": {}
      },
      "source": [
        "new_model = torchvision.models.resnet50(pretrained=True)"
      ],
      "execution_count": null,
      "outputs": []
    },
    {
      "cell_type": "code",
      "metadata": {
        "id": "UzhsTHCkGIW-",
        "colab_type": "code",
        "colab": {}
      },
      "source": [
        "data_transforms = {\n",
        "    'train': transforms.Compose([\n",
        "        transforms.RandomRotation(5),\n",
        "        transforms.RandomHorizontalFlip(),\n",
        "        transforms.RandomResizedCrop(224, scale=(0.96, 1.0), ratio=(0.95, 1.05)),\n",
        "        transforms.ToTensor(),\n",
        "        transforms.Normalize([0.485, 0.456, 0.406], [0.229, 0.224, 0.225])\n",
        "    ]),\n",
        "    'val': transforms.Compose([\n",
        "        transforms.Resize([224, 224]),\n",
        "        transforms.ToTensor(),\n",
        "        transforms.Normalize([0.485, 0.456, 0.406], [0.229, 0.224, 0.225])\n",
        "    ]),\n",
        "}\n",
        "\n",
        "train_data = CatDogDataset(data_dir='./data/my_cat_dog', mode='train', transform=data_transforms['train'])\n",
        "val_data = CatDogDataset(data_dir='./data/my_cat_dog', mode='val', transform=data_transforms['val'])\n",
        "test_data = CatDogDataset(data_dir='./data/my_cat_dog', mode='test', transform=data_transforms['val'])\n",
        "\n",
        "train_loader = DataLoader(train_data, batch_size=batch_size, shuffle=True, drop_last=True)\n",
        "val_loader = DataLoader(val_data, batch_size=batch_size, shuffle=False, drop_last=True)\n",
        "test_loader = DataLoader(test_data, batch_size=batch_size, shuffle=False, drop_last=True)"
      ],
      "execution_count": null,
      "outputs": []
    },
    {
      "cell_type": "code",
      "metadata": {
        "id": "mr98T43-GIXB",
        "colab_type": "code",
        "colab": {}
      },
      "source": [
        "for param in new_model.parameters():\n",
        "    param.requires_grad = False\n",
        "\n",
        "num_ftrs = new_model.fc.in_features\n",
        "new_model.fc = nn.Linear(num_ftrs, 2)  \n",
        "criterion = nn.CrossEntropyLoss()      \n",
        "new_model = new_model.to(device)\n",
        "optimizer = torch.optim.Adam(params=new_model.parameters(), lr=learning_rate)      \n",
        "val_every = 1\n",
        "saved_dir = './saved/ResNet50'"
      ],
      "execution_count": null,
      "outputs": []
    },
    {
      "cell_type": "code",
      "metadata": {
        "scrolled": true,
        "id": "KiJCcJfXGIXF",
        "colab_type": "code",
        "colab": {}
      },
      "source": [
        "train(num_epochs, new_model, train_loader, criterion, optimizer, saved_dir, val_every, device)"
      ],
      "execution_count": null,
      "outputs": []
    },
    {
      "cell_type": "code",
      "metadata": {
        "id": "sbgLCc3RGIXH",
        "colab_type": "code",
        "colab": {
          "base_uri": "https://localhost:8080/",
          "height": 35
        },
        "outputId": "1fc33c04-5cd5-4594-e66e-ad8bd3b50026"
      },
      "source": [
        "model_path = './saved/ResNet50/best_model.pt'\n",
        "# model_path = './saved/pretrained/ResNet50/best_model.pt' # 모델 학습을 끝까지 진행하지 않은 경우에 사용\n",
        "\n",
        "checkpoint = torch.load(model_path) \n",
        "state_dict = checkpoint['net'] \n",
        "new_model.load_state_dict(state_dict=state_dict)        "
      ],
      "execution_count": null,
      "outputs": [
        {
          "output_type": "execute_result",
          "data": {
            "text/plain": [
              "<All keys matched successfully>"
            ]
          },
          "metadata": {
            "tags": []
          },
          "execution_count": 116
        }
      ]
    },
    {
      "cell_type": "code",
      "metadata": {
        "id": "GGad9MR-GIXJ",
        "colab_type": "code",
        "colab": {
          "base_uri": "https://localhost:8080/",
          "height": 52
        },
        "outputId": "e4d559cc-4abd-43eb-ff12-983c0d65eb97"
      },
      "source": [
        "test(new_model, test_loader, device)"
      ],
      "execution_count": null,
      "outputs": [
        {
          "output_type": "stream",
          "text": [
            "Start test..\n",
            "Test accuracy for 2000 images: 98.05%\n"
          ],
          "name": "stdout"
        }
      ]
    }
  ]
}